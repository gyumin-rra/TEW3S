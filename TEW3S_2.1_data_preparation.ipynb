{
 "cells": [
  {
   "attachments": {},
   "cell_type": "markdown",
   "metadata": {},
   "source": [
    "# Preparation for modeling\n",
    "In this notebook, we make our data to be prepared for not only being suitable for ML techniques but also generating good performance."
   ]
  },
  {
   "cell_type": "code",
   "execution_count": 1,
   "metadata": {},
   "outputs": [],
   "source": [
    "import pandas as pd\n",
    "from warnings import simplefilter\n",
    "from tqdm import tqdm\n",
    "import datetime\n",
    "import numpy as np\n",
    "simplefilter(action=\"ignore\", category=pd.errors.DtypeWarning)\n",
    "pd.set_option('display.max_columns', None)\n",
    "\n",
    "import pickle"
   ]
  },
  {
   "attachments": {},
   "cell_type": "markdown",
   "metadata": {},
   "source": [
    "## data crop and labeling"
   ]
  },
  {
   "attachments": {},
   "cell_type": "markdown",
   "metadata": {},
   "source": [
    "in this section, we label the prediction targets with 30 diffrent versions. \n",
    "\n",
    "the type of prediction targets varies by prediction window(6), data crop(4+1)\n",
    "\n",
    "This section contains:\n",
    "1. cohort selection, which can be abbreviated as SCR\n",
    "2. labeling considering data crop and windows "
   ]
  },
  {
   "cell_type": "code",
   "execution_count": 2,
   "metadata": {},
   "outputs": [],
   "source": [
    "def labeling(df, target_name='SHOCK', windows=[1,2,3,4,5,6], data_crops=[0,1,2,3,4,5,6,12,999]):\n",
    "    target = df[target_name]\n",
    "\n",
    "    if sum(target) == 0: # nonshock stay\n",
    "        for dc, pw in [(i, j) for i in data_crops for j in windows]:\n",
    "            df[str('%s_dc%d_pw%s' %(target_name.lower(), dc, pw))] = 0\n",
    "\n",
    "        return df\n",
    "    \n",
    "    shock_onset = target.tolist().index(1)\n",
    "    for dc, pw in [(i, j) for i in data_crops for j in windows]:\n",
    "        if dc != 999:\n",
    "            target_cropped = target[:shock_onset+1+dc].tolist() + [np.nan for _ in range(len(target)-(shock_onset+1+dc))]\n",
    "            target_cropped = pd.Series(target_cropped)\n",
    "        else:\n",
    "            target_cropped = target\n",
    "        \n",
    "        tmp = pd.Series([0 for _ in range(len(target))])\n",
    "        for i in range(1, pw+1):\n",
    "            tmp += target_cropped.shift(-i)\n",
    "        \n",
    "        label = [np.nan if pd.isna(i) else 1 if i>0 else 0 for i in tmp]\n",
    "\n",
    "        df[str('%s_dc%d_pw%s' %(target_name.lower(), dc, pw))] = label\n",
    "    \n",
    "    return df\n",
    "        # when training model with this labeling scheme, one should consider 1) drop the nan having rows, 2) drop the stay that has only nan labels."
   ]
  },
  {
   "cell_type": "code",
   "execution_count": 3,
   "metadata": {},
   "outputs": [],
   "source": [
    "with open('sepsis_tabdata_raw.pkl','rb') as f:\n",
    "    tab_data = pickle.load(f)\n",
    "\n",
    "icustays = pd.read_csv('processed_data/sepsis/icustays_tab_1hr_v1.csv')\n",
    "icustays = icustays.loc[icustays.cohort_stays_tab_1hr_v1 == 1].reset_index(drop=True)\n",
    "stayids = icustays.stay_id.unique()\n",
    "icustays.intime = pd.to_datetime(icustays.intime)\n",
    "icustays.outtime = pd.to_datetime(icustays.outtime)"
   ]
  },
  {
   "cell_type": "code",
   "execution_count": 4,
   "metadata": {},
   "outputs": [
    {
     "name": "stderr",
     "output_type": "stream",
     "text": [
      "100%|██████████| 11780/11780 [04:32<00:00, 43.17it/s]\n"
     ]
    }
   ],
   "source": [
    "sepsis_data_tab1_v1_SCRL = {}\n",
    "for i in tqdm(range(len(stayids))):\n",
    "    tmp_stay = stayids[i]\n",
    "    tmp_cond = icustays.stay_id == tmp_stay\n",
    "    tmp_adm = icustays.loc[tmp_cond].hadm_id.tolist()[0]\n",
    "    it, ot = icustays.loc[tmp_cond, ('intime', 'outtime')].reset_index(drop=True).loc[0]\n",
    "    tmp_adm_data = tab_data[tmp_adm]\t\n",
    "    tmp_cond = (tmp_adm_data.seq_ET >= it) & (tmp_adm_data.seq_ST <= ot)\n",
    "    tmp_stay_df = tmp_adm_data.loc[tmp_cond].reset_index(drop=True)\n",
    "\n",
    "    # SCR and labeling\n",
    "    sepsis_data_tab1_v1_SCRL[tmp_stay] = labeling(tmp_stay_df)"
   ]
  },
  {
   "cell_type": "code",
   "execution_count": 5,
   "metadata": {},
   "outputs": [],
   "source": [
    "with open('sepsis_data_tab1_v1_SCRL.pkl','wb') as f:\n",
    "    pickle.dump(sepsis_data_tab1_v1_SCRL, f)"
   ]
  },
  {
   "attachments": {},
   "cell_type": "markdown",
   "metadata": {},
   "source": [
    "## feature engineering\n",
    "in this section, feature engineering, especially meta variable addition, is defined by functions and some of the variables known to be helpful to show good performances will be calculated and added.\n",
    "\n",
    "the variables that will be manipulated to generate meta variabes are defined as the first cell."
   ]
  },
  {
   "cell_type": "code",
   "execution_count": 6,
   "metadata": {},
   "outputs": [],
   "source": [
    "core_features = ['sbp', 'dbp', 'map', 'pao2', 'fio2', 'lactate', 'arterial_ph', 'gcs', 'creatinine', 'bilirubin', 'platelets']\n",
    "\n",
    "slope_features = [i+str('_slp%d' %j) for i in core_features for j in [1, 3, 5]]"
   ]
  },
  {
   "cell_type": "code",
   "execution_count": 7,
   "metadata": {},
   "outputs": [],
   "source": [
    "with open('sepsis_data_tab1_v1_SCRL.pkl','rb') as f:\n",
    "    sepsis_data_tab1_v1_SCRL = pickle.load(f)\n",
    "stayids = list(sepsis_data_tab1_v1_SCRL.keys())"
   ]
  },
  {
   "cell_type": "code",
   "execution_count": 8,
   "metadata": {},
   "outputs": [
    {
     "name": "stderr",
     "output_type": "stream",
     "text": [
      "100%|██████████| 11780/11780 [02:33<00:00, 76.63it/s]\n"
     ]
    }
   ],
   "source": [
    "for tmp_stay in tqdm(stayids):\n",
    "    tmp_stay_df = sepsis_data_tab1_v1_SCRL[tmp_stay]\n",
    "\n",
    "    for fn in core_features:\n",
    "        for slp in [1, 3, 5]:\n",
    "            tmp_stay_df[str('%s_slp%d' %(fn, slp))] = tmp_stay_df[str('%s_value' %(fn))] - tmp_stay_df[str('%s_value' %(fn))].shift(slp).fillna(method='bfill').fillna(0)\n",
    "    \n",
    "    sepsis_data_tab1_v1_SCRL[tmp_stay] = tmp_stay_df"
   ]
  },
  {
   "cell_type": "code",
   "execution_count": 9,
   "metadata": {},
   "outputs": [],
   "source": [
    "with open('sepsis_data_tab1_v1_FE.pkl','wb') as f:\n",
    "    pickle.dump(sepsis_data_tab1_v1_SCRL, f)"
   ]
  },
  {
   "attachments": {},
   "cell_type": "markdown",
   "metadata": {},
   "source": [
    "## make dataframe"
   ]
  },
  {
   "cell_type": "code",
   "execution_count": 10,
   "metadata": {},
   "outputs": [],
   "source": [
    "def make_df(data, id_list, id_type='stay_id'):\n",
    "    df_list = []    \n",
    "    for id in tqdm(id_list):\n",
    "        data[id][id_type] = id\n",
    "        df_list += data[id].values.tolist()\n",
    "    df = pd.DataFrame(df_list, columns=data[id].columns)\n",
    "\n",
    "    return df"
   ]
  },
  {
   "cell_type": "code",
   "execution_count": 11,
   "metadata": {},
   "outputs": [],
   "source": [
    "with open('sepsis_data_tab1_v1_FE.pkl','rb') as f:\n",
    "    sepsis_data_tab1_v1_FE = pickle.load(f)\n",
    "stayids = list(sepsis_data_tab1_v1_FE.keys())"
   ]
  },
  {
   "cell_type": "code",
   "execution_count": 12,
   "metadata": {},
   "outputs": [
    {
     "name": "stderr",
     "output_type": "stream",
     "text": [
      "100%|██████████| 11780/11780 [01:32<00:00, 127.66it/s]\n"
     ]
    }
   ],
   "source": [
    "sepsis_data_t1v1FE_df = make_df(sepsis_data_tab1_v1_FE, stayids)"
   ]
  },
  {
   "cell_type": "code",
   "execution_count": 13,
   "metadata": {},
   "outputs": [
    {
     "data": {
      "text/html": [
       "<div>\n",
       "<style scoped>\n",
       "    .dataframe tbody tr th:only-of-type {\n",
       "        vertical-align: middle;\n",
       "    }\n",
       "\n",
       "    .dataframe tbody tr th {\n",
       "        vertical-align: top;\n",
       "    }\n",
       "\n",
       "    .dataframe thead th {\n",
       "        text-align: right;\n",
       "    }\n",
       "</style>\n",
       "<table border=\"1\" class=\"dataframe\">\n",
       "  <thead>\n",
       "    <tr style=\"text-align: right;\">\n",
       "      <th></th>\n",
       "      <th>hadm_id</th>\n",
       "      <th>seq_num</th>\n",
       "      <th>seq_ST</th>\n",
       "      <th>seq_ET</th>\n",
       "      <th>platelets_slp1</th>\n",
       "      <th>platelets_slp3</th>\n",
       "      <th>platelets_slp5</th>\n",
       "      <th>stay_id</th>\n",
       "    </tr>\n",
       "  </thead>\n",
       "  <tbody>\n",
       "    <tr>\n",
       "      <th>0</th>\n",
       "      <td>26184834</td>\n",
       "      <td>76</td>\n",
       "      <td>2131-01-11 03:59:59</td>\n",
       "      <td>2131-01-11 04:59:59</td>\n",
       "      <td>0.0</td>\n",
       "      <td>0.0</td>\n",
       "      <td>0.0</td>\n",
       "      <td>37510196</td>\n",
       "    </tr>\n",
       "    <tr>\n",
       "      <th>1</th>\n",
       "      <td>26184834</td>\n",
       "      <td>77</td>\n",
       "      <td>2131-01-11 04:59:59</td>\n",
       "      <td>2131-01-11 05:59:59</td>\n",
       "      <td>0.0</td>\n",
       "      <td>0.0</td>\n",
       "      <td>0.0</td>\n",
       "      <td>37510196</td>\n",
       "    </tr>\n",
       "    <tr>\n",
       "      <th>2</th>\n",
       "      <td>26184834</td>\n",
       "      <td>78</td>\n",
       "      <td>2131-01-11 05:59:59</td>\n",
       "      <td>2131-01-11 06:59:59</td>\n",
       "      <td>-47.0</td>\n",
       "      <td>-47.0</td>\n",
       "      <td>-47.0</td>\n",
       "      <td>37510196</td>\n",
       "    </tr>\n",
       "    <tr>\n",
       "      <th>3</th>\n",
       "      <td>26184834</td>\n",
       "      <td>79</td>\n",
       "      <td>2131-01-11 06:59:59</td>\n",
       "      <td>2131-01-11 07:59:59</td>\n",
       "      <td>0.0</td>\n",
       "      <td>-47.0</td>\n",
       "      <td>-47.0</td>\n",
       "      <td>37510196</td>\n",
       "    </tr>\n",
       "    <tr>\n",
       "      <th>4</th>\n",
       "      <td>26184834</td>\n",
       "      <td>80</td>\n",
       "      <td>2131-01-11 07:59:59</td>\n",
       "      <td>2131-01-11 08:59:59</td>\n",
       "      <td>0.0</td>\n",
       "      <td>-47.0</td>\n",
       "      <td>-47.0</td>\n",
       "      <td>37510196</td>\n",
       "    </tr>\n",
       "    <tr>\n",
       "      <th>5</th>\n",
       "      <td>26184834</td>\n",
       "      <td>81</td>\n",
       "      <td>2131-01-11 08:59:59</td>\n",
       "      <td>2131-01-11 09:59:59</td>\n",
       "      <td>0.0</td>\n",
       "      <td>0.0</td>\n",
       "      <td>-47.0</td>\n",
       "      <td>37510196</td>\n",
       "    </tr>\n",
       "    <tr>\n",
       "      <th>6</th>\n",
       "      <td>26184834</td>\n",
       "      <td>82</td>\n",
       "      <td>2131-01-11 09:59:59</td>\n",
       "      <td>2131-01-11 10:59:59</td>\n",
       "      <td>0.0</td>\n",
       "      <td>0.0</td>\n",
       "      <td>-47.0</td>\n",
       "      <td>37510196</td>\n",
       "    </tr>\n",
       "    <tr>\n",
       "      <th>7</th>\n",
       "      <td>26184834</td>\n",
       "      <td>83</td>\n",
       "      <td>2131-01-11 10:59:59</td>\n",
       "      <td>2131-01-11 11:59:59</td>\n",
       "      <td>0.0</td>\n",
       "      <td>0.0</td>\n",
       "      <td>0.0</td>\n",
       "      <td>37510196</td>\n",
       "    </tr>\n",
       "    <tr>\n",
       "      <th>8</th>\n",
       "      <td>26184834</td>\n",
       "      <td>84</td>\n",
       "      <td>2131-01-11 11:59:59</td>\n",
       "      <td>2131-01-11 12:59:59</td>\n",
       "      <td>0.0</td>\n",
       "      <td>0.0</td>\n",
       "      <td>0.0</td>\n",
       "      <td>37510196</td>\n",
       "    </tr>\n",
       "    <tr>\n",
       "      <th>9</th>\n",
       "      <td>26184834</td>\n",
       "      <td>85</td>\n",
       "      <td>2131-01-11 12:59:59</td>\n",
       "      <td>2131-01-11 13:59:59</td>\n",
       "      <td>0.0</td>\n",
       "      <td>0.0</td>\n",
       "      <td>0.0</td>\n",
       "      <td>37510196</td>\n",
       "    </tr>\n",
       "  </tbody>\n",
       "</table>\n",
       "</div>"
      ],
      "text/plain": [
       "    hadm_id  seq_num              seq_ST              seq_ET  platelets_slp1  \\\n",
       "0  26184834       76 2131-01-11 03:59:59 2131-01-11 04:59:59             0.0   \n",
       "1  26184834       77 2131-01-11 04:59:59 2131-01-11 05:59:59             0.0   \n",
       "2  26184834       78 2131-01-11 05:59:59 2131-01-11 06:59:59           -47.0   \n",
       "3  26184834       79 2131-01-11 06:59:59 2131-01-11 07:59:59             0.0   \n",
       "4  26184834       80 2131-01-11 07:59:59 2131-01-11 08:59:59             0.0   \n",
       "5  26184834       81 2131-01-11 08:59:59 2131-01-11 09:59:59             0.0   \n",
       "6  26184834       82 2131-01-11 09:59:59 2131-01-11 10:59:59             0.0   \n",
       "7  26184834       83 2131-01-11 10:59:59 2131-01-11 11:59:59             0.0   \n",
       "8  26184834       84 2131-01-11 11:59:59 2131-01-11 12:59:59             0.0   \n",
       "9  26184834       85 2131-01-11 12:59:59 2131-01-11 13:59:59             0.0   \n",
       "\n",
       "   platelets_slp3  platelets_slp5   stay_id  \n",
       "0             0.0             0.0  37510196  \n",
       "1             0.0             0.0  37510196  \n",
       "2           -47.0           -47.0  37510196  \n",
       "3           -47.0           -47.0  37510196  \n",
       "4           -47.0           -47.0  37510196  \n",
       "5             0.0           -47.0  37510196  \n",
       "6             0.0           -47.0  37510196  \n",
       "7             0.0             0.0  37510196  \n",
       "8             0.0             0.0  37510196  \n",
       "9             0.0             0.0  37510196  "
      ]
     },
     "execution_count": 13,
     "metadata": {},
     "output_type": "execute_result"
    }
   ],
   "source": [
    "sepsis_data_t1v1FE_df.iloc[0:10, [0,1,2,3,-4,-3,-2,-1]]"
   ]
  },
  {
   "cell_type": "code",
   "execution_count": 14,
   "metadata": {},
   "outputs": [
    {
     "data": {
      "text/html": [
       "<div>\n",
       "<style scoped>\n",
       "    .dataframe tbody tr th:only-of-type {\n",
       "        vertical-align: middle;\n",
       "    }\n",
       "\n",
       "    .dataframe tbody tr th {\n",
       "        vertical-align: top;\n",
       "    }\n",
       "\n",
       "    .dataframe thead th {\n",
       "        text-align: right;\n",
       "    }\n",
       "</style>\n",
       "<table border=\"1\" class=\"dataframe\">\n",
       "  <thead>\n",
       "    <tr style=\"text-align: right;\">\n",
       "      <th></th>\n",
       "      <th>hadm_id</th>\n",
       "      <th>seq_num</th>\n",
       "      <th>seq_ST</th>\n",
       "      <th>seq_ET</th>\n",
       "      <th>platelets_slp3</th>\n",
       "      <th>platelets_slp5</th>\n",
       "      <th>stay_id</th>\n",
       "    </tr>\n",
       "  </thead>\n",
       "  <tbody>\n",
       "    <tr>\n",
       "      <th>0</th>\n",
       "      <td>26184834</td>\n",
       "      <td>76</td>\n",
       "      <td>2131-01-11 03:59:59</td>\n",
       "      <td>2131-01-11 04:59:59</td>\n",
       "      <td>0.0</td>\n",
       "      <td>0.0</td>\n",
       "      <td>37510196</td>\n",
       "    </tr>\n",
       "    <tr>\n",
       "      <th>1</th>\n",
       "      <td>26184834</td>\n",
       "      <td>77</td>\n",
       "      <td>2131-01-11 04:59:59</td>\n",
       "      <td>2131-01-11 05:59:59</td>\n",
       "      <td>0.0</td>\n",
       "      <td>0.0</td>\n",
       "      <td>37510196</td>\n",
       "    </tr>\n",
       "    <tr>\n",
       "      <th>2</th>\n",
       "      <td>26184834</td>\n",
       "      <td>78</td>\n",
       "      <td>2131-01-11 05:59:59</td>\n",
       "      <td>2131-01-11 06:59:59</td>\n",
       "      <td>-47.0</td>\n",
       "      <td>-47.0</td>\n",
       "      <td>37510196</td>\n",
       "    </tr>\n",
       "    <tr>\n",
       "      <th>3</th>\n",
       "      <td>26184834</td>\n",
       "      <td>79</td>\n",
       "      <td>2131-01-11 06:59:59</td>\n",
       "      <td>2131-01-11 07:59:59</td>\n",
       "      <td>-47.0</td>\n",
       "      <td>-47.0</td>\n",
       "      <td>37510196</td>\n",
       "    </tr>\n",
       "    <tr>\n",
       "      <th>4</th>\n",
       "      <td>26184834</td>\n",
       "      <td>80</td>\n",
       "      <td>2131-01-11 07:59:59</td>\n",
       "      <td>2131-01-11 08:59:59</td>\n",
       "      <td>-47.0</td>\n",
       "      <td>-47.0</td>\n",
       "      <td>37510196</td>\n",
       "    </tr>\n",
       "    <tr>\n",
       "      <th>5</th>\n",
       "      <td>26184834</td>\n",
       "      <td>81</td>\n",
       "      <td>2131-01-11 08:59:59</td>\n",
       "      <td>2131-01-11 09:59:59</td>\n",
       "      <td>0.0</td>\n",
       "      <td>-47.0</td>\n",
       "      <td>37510196</td>\n",
       "    </tr>\n",
       "    <tr>\n",
       "      <th>6</th>\n",
       "      <td>26184834</td>\n",
       "      <td>82</td>\n",
       "      <td>2131-01-11 09:59:59</td>\n",
       "      <td>2131-01-11 10:59:59</td>\n",
       "      <td>0.0</td>\n",
       "      <td>-47.0</td>\n",
       "      <td>37510196</td>\n",
       "    </tr>\n",
       "    <tr>\n",
       "      <th>7</th>\n",
       "      <td>26184834</td>\n",
       "      <td>83</td>\n",
       "      <td>2131-01-11 10:59:59</td>\n",
       "      <td>2131-01-11 11:59:59</td>\n",
       "      <td>0.0</td>\n",
       "      <td>0.0</td>\n",
       "      <td>37510196</td>\n",
       "    </tr>\n",
       "    <tr>\n",
       "      <th>8</th>\n",
       "      <td>26184834</td>\n",
       "      <td>84</td>\n",
       "      <td>2131-01-11 11:59:59</td>\n",
       "      <td>2131-01-11 12:59:59</td>\n",
       "      <td>0.0</td>\n",
       "      <td>0.0</td>\n",
       "      <td>37510196</td>\n",
       "    </tr>\n",
       "    <tr>\n",
       "      <th>9</th>\n",
       "      <td>26184834</td>\n",
       "      <td>85</td>\n",
       "      <td>2131-01-11 12:59:59</td>\n",
       "      <td>2131-01-11 13:59:59</td>\n",
       "      <td>0.0</td>\n",
       "      <td>0.0</td>\n",
       "      <td>37510196</td>\n",
       "    </tr>\n",
       "  </tbody>\n",
       "</table>\n",
       "</div>"
      ],
      "text/plain": [
       "    hadm_id  seq_num              seq_ST              seq_ET  platelets_slp3  \\\n",
       "0  26184834       76 2131-01-11 03:59:59 2131-01-11 04:59:59             0.0   \n",
       "1  26184834       77 2131-01-11 04:59:59 2131-01-11 05:59:59             0.0   \n",
       "2  26184834       78 2131-01-11 05:59:59 2131-01-11 06:59:59           -47.0   \n",
       "3  26184834       79 2131-01-11 06:59:59 2131-01-11 07:59:59           -47.0   \n",
       "4  26184834       80 2131-01-11 07:59:59 2131-01-11 08:59:59           -47.0   \n",
       "5  26184834       81 2131-01-11 08:59:59 2131-01-11 09:59:59             0.0   \n",
       "6  26184834       82 2131-01-11 09:59:59 2131-01-11 10:59:59             0.0   \n",
       "7  26184834       83 2131-01-11 10:59:59 2131-01-11 11:59:59             0.0   \n",
       "8  26184834       84 2131-01-11 11:59:59 2131-01-11 12:59:59             0.0   \n",
       "9  26184834       85 2131-01-11 12:59:59 2131-01-11 13:59:59             0.0   \n",
       "\n",
       "   platelets_slp5   stay_id  \n",
       "0             0.0  37510196  \n",
       "1             0.0  37510196  \n",
       "2           -47.0  37510196  \n",
       "3           -47.0  37510196  \n",
       "4           -47.0  37510196  \n",
       "5           -47.0  37510196  \n",
       "6           -47.0  37510196  \n",
       "7             0.0  37510196  \n",
       "8             0.0  37510196  \n",
       "9             0.0  37510196  "
      ]
     },
     "execution_count": 14,
     "metadata": {},
     "output_type": "execute_result"
    }
   ],
   "source": [
    "sepsis_data_tab1_v1_FE[stayids[0]].iloc[0:10, [0,1,2,3,-3,-2,-1]]"
   ]
  },
  {
   "cell_type": "code",
   "execution_count": 15,
   "metadata": {},
   "outputs": [],
   "source": [
    "sepsis_data_t1v1FE_df.to_csv('sepsis_data_t1v1FE_df.csv', index=False)"
   ]
  },
  {
   "attachments": {},
   "cell_type": "markdown",
   "metadata": {},
   "source": [
    "## version 2. with cvp"
   ]
  },
  {
   "attachments": {},
   "cell_type": "markdown",
   "metadata": {},
   "source": [
    "### data crop and labeling"
   ]
  },
  {
   "cell_type": "markdown",
   "metadata": {},
   "source": [
    "in this section, we label the prediction targets with 30 diffrent versions. \n",
    "\n",
    "the type of prediction targets varies by prediction window(6), data crop(4+1)\n",
    "\n",
    "This section contains:\n",
    "1. cohort selection, which can be abbreviated as SCR\n",
    "2. labeling considering data crop and windows "
   ]
  },
  {
   "cell_type": "code",
   "execution_count": 2,
   "metadata": {},
   "outputs": [],
   "source": [
    "def labeling(df, target_name='SHOCK', windows=[1,2,3,4,5,6], data_crops=[0,1,2,3,4,5,6,12,999]):\n",
    "    target = df[target_name]\n",
    "\n",
    "    if sum(target) == 0: # nonshock stay\n",
    "        for dc, pw in [(i, j) for i in data_crops for j in windows]:\n",
    "            df[str('%s_dc%d_pw%s' %(target_name.lower(), dc, pw))] = 0\n",
    "\n",
    "        return df\n",
    "    \n",
    "    shock_onset = target.tolist().index(1)\n",
    "    for dc, pw in [(i, j) for i in data_crops for j in windows]:\n",
    "        if dc != 999:\n",
    "            target_cropped = target[:shock_onset+1+dc].tolist() + [np.nan for _ in range(len(target)-(shock_onset+1+dc))]\n",
    "            target_cropped = pd.Series(target_cropped)\n",
    "        else:\n",
    "            target_cropped = target\n",
    "        \n",
    "        tmp = pd.Series([0 for _ in range(len(target))])\n",
    "        for i in range(1, pw+1):\n",
    "            tmp += target_cropped.shift(-i)\n",
    "        \n",
    "        label = [np.nan if pd.isna(i) else 1 if i>0 else 0 for i in tmp]\n",
    "\n",
    "        df[str('%s_dc%d_pw%s' %(target_name.lower(), dc, pw))] = label\n",
    "    \n",
    "    return df\n",
    "        # when training model with this labeling scheme, one should consider 1) drop the nan having rows, 2) drop the stay that has only nan labels."
   ]
  },
  {
   "cell_type": "code",
   "execution_count": 3,
   "metadata": {},
   "outputs": [],
   "source": [
    "with open('sepsis_tabdata_raw_v2.pkl','rb') as f:\n",
    "    tab_data = pickle.load(f)\n",
    "\n",
    "icustays = pd.read_csv('processed_data/sepsis/icustays_tab_1hr_v1.csv')\n",
    "icustays = icustays.loc[icustays.cohort_stays_tab_1hr_v1 == 1].reset_index(drop=True)\n",
    "stayids = icustays.stay_id.unique()\n",
    "icustays.intime = pd.to_datetime(icustays.intime)\n",
    "icustays.outtime = pd.to_datetime(icustays.outtime)"
   ]
  },
  {
   "cell_type": "code",
   "execution_count": 4,
   "metadata": {},
   "outputs": [
    {
     "name": "stderr",
     "output_type": "stream",
     "text": [
      "100%|██████████| 11780/11780 [04:34<00:00, 42.89it/s]\n"
     ]
    }
   ],
   "source": [
    "sepsis_data_tab1_v2_SCRL = {}\n",
    "for i in tqdm(range(len(stayids))):\n",
    "    tmp_stay = stayids[i]\n",
    "    tmp_cond = icustays.stay_id == tmp_stay\n",
    "    tmp_adm = icustays.loc[tmp_cond].hadm_id.tolist()[0]\n",
    "    it, ot = icustays.loc[tmp_cond, ('intime', 'outtime')].reset_index(drop=True).loc[0]\n",
    "    tmp_adm_data = tab_data[tmp_adm]\t\n",
    "    tmp_cond = (tmp_adm_data.seq_ET >= it) & (tmp_adm_data.seq_ST <= ot)\n",
    "    tmp_stay_df = tmp_adm_data.loc[tmp_cond].reset_index(drop=True)\n",
    "\n",
    "    # SCR and labeling\n",
    "    sepsis_data_tab1_v2_SCRL[tmp_stay] = labeling(tmp_stay_df)"
   ]
  },
  {
   "cell_type": "code",
   "execution_count": 5,
   "metadata": {},
   "outputs": [],
   "source": [
    "with open('sepsis_data_tab1_v2_SCRL.pkl','wb') as f:\n",
    "    pickle.dump(sepsis_data_tab1_v2_SCRL, f)"
   ]
  },
  {
   "attachments": {},
   "cell_type": "markdown",
   "metadata": {},
   "source": [
    "### feature engineering\n",
    "in this section, feature engineering, especially meta variable addition, is defined by functions and some of the variables known to be helpful to show good performances will be calculated and added.\n",
    "\n",
    "the variables that will be manipulated to generate meta variabes are defined as the first cell."
   ]
  },
  {
   "cell_type": "code",
   "execution_count": 6,
   "metadata": {},
   "outputs": [],
   "source": [
    "core_features = ['sbp', 'dbp', 'map', 'pao2', 'fio2', 'lactate', 'arterial_ph', 'gcs', 'creatinine', 'bilirubin', 'platelets']\n",
    "\n",
    "slope_features = [i+str('_slp%d' %j) for i in core_features for j in [1, 3, 5]]"
   ]
  },
  {
   "cell_type": "code",
   "execution_count": 8,
   "metadata": {},
   "outputs": [],
   "source": [
    "with open('sepsis_data_tab1_v2_SCRL.pkl','rb') as f:\n",
    "    sepsis_data_tab1_v2_SCRL = pickle.load(f)\n",
    "stayids = list(sepsis_data_tab1_v2_SCRL.keys())"
   ]
  },
  {
   "cell_type": "code",
   "execution_count": 9,
   "metadata": {},
   "outputs": [
    {
     "name": "stderr",
     "output_type": "stream",
     "text": [
      "100%|██████████| 11780/11780 [02:32<00:00, 77.44it/s]\n"
     ]
    }
   ],
   "source": [
    "for tmp_stay in tqdm(stayids):\n",
    "    tmp_stay_df = sepsis_data_tab1_v2_SCRL[tmp_stay]\n",
    "\n",
    "    for fn in core_features:\n",
    "        for slp in [1, 3, 5]:\n",
    "            tmp_stay_df[str('%s_slp%d' %(fn, slp))] = tmp_stay_df[str('%s_value' %(fn))] - tmp_stay_df[str('%s_value' %(fn))].shift(slp).fillna(method='bfill').fillna(0)\n",
    "    \n",
    "    sepsis_data_tab1_v2_SCRL[tmp_stay] = tmp_stay_df"
   ]
  },
  {
   "cell_type": "code",
   "execution_count": 10,
   "metadata": {},
   "outputs": [],
   "source": [
    "with open('sepsis_data_tab1_v2_FE.pkl','wb') as f:\n",
    "    pickle.dump(sepsis_data_tab1_v2_SCRL, f)"
   ]
  },
  {
   "attachments": {},
   "cell_type": "markdown",
   "metadata": {},
   "source": [
    "### make dataframe"
   ]
  },
  {
   "cell_type": "code",
   "execution_count": 11,
   "metadata": {},
   "outputs": [],
   "source": [
    "def make_df(data, id_list, id_type='stay_id'):\n",
    "    df_list = []    \n",
    "    for id in tqdm(id_list):\n",
    "        data[id][id_type] = id\n",
    "        df_list += data[id].values.tolist()\n",
    "    df = pd.DataFrame(df_list, columns=data[id].columns)\n",
    "\n",
    "    return df"
   ]
  },
  {
   "cell_type": "code",
   "execution_count": 12,
   "metadata": {},
   "outputs": [],
   "source": [
    "with open('sepsis_data_tab1_v2_FE.pkl','rb') as f:\n",
    "    sepsis_data_tab1_v2_FE = pickle.load(f)\n",
    "stayids = list(sepsis_data_tab1_v2_FE.keys())"
   ]
  },
  {
   "cell_type": "code",
   "execution_count": 13,
   "metadata": {},
   "outputs": [
    {
     "name": "stderr",
     "output_type": "stream",
     "text": [
      "100%|██████████| 11780/11780 [01:49<00:00, 107.29it/s]\n"
     ]
    }
   ],
   "source": [
    "sepsis_data_t1v2FE_df = make_df(sepsis_data_tab1_v2_FE, stayids)"
   ]
  },
  {
   "cell_type": "code",
   "execution_count": 14,
   "metadata": {},
   "outputs": [
    {
     "data": {
      "text/html": [
       "<div>\n",
       "<style scoped>\n",
       "    .dataframe tbody tr th:only-of-type {\n",
       "        vertical-align: middle;\n",
       "    }\n",
       "\n",
       "    .dataframe tbody tr th {\n",
       "        vertical-align: top;\n",
       "    }\n",
       "\n",
       "    .dataframe thead th {\n",
       "        text-align: right;\n",
       "    }\n",
       "</style>\n",
       "<table border=\"1\" class=\"dataframe\">\n",
       "  <thead>\n",
       "    <tr style=\"text-align: right;\">\n",
       "      <th></th>\n",
       "      <th>hadm_id</th>\n",
       "      <th>seq_num</th>\n",
       "      <th>seq_ST</th>\n",
       "      <th>seq_ET</th>\n",
       "      <th>platelets_slp1</th>\n",
       "      <th>platelets_slp3</th>\n",
       "      <th>platelets_slp5</th>\n",
       "      <th>stay_id</th>\n",
       "    </tr>\n",
       "  </thead>\n",
       "  <tbody>\n",
       "    <tr>\n",
       "      <th>0</th>\n",
       "      <td>26184834</td>\n",
       "      <td>76</td>\n",
       "      <td>2131-01-11 03:59:59</td>\n",
       "      <td>2131-01-11 04:59:59</td>\n",
       "      <td>0.0</td>\n",
       "      <td>0.0</td>\n",
       "      <td>0.0</td>\n",
       "      <td>37510196</td>\n",
       "    </tr>\n",
       "    <tr>\n",
       "      <th>1</th>\n",
       "      <td>26184834</td>\n",
       "      <td>77</td>\n",
       "      <td>2131-01-11 04:59:59</td>\n",
       "      <td>2131-01-11 05:59:59</td>\n",
       "      <td>0.0</td>\n",
       "      <td>0.0</td>\n",
       "      <td>0.0</td>\n",
       "      <td>37510196</td>\n",
       "    </tr>\n",
       "    <tr>\n",
       "      <th>2</th>\n",
       "      <td>26184834</td>\n",
       "      <td>78</td>\n",
       "      <td>2131-01-11 05:59:59</td>\n",
       "      <td>2131-01-11 06:59:59</td>\n",
       "      <td>-47.0</td>\n",
       "      <td>-47.0</td>\n",
       "      <td>-47.0</td>\n",
       "      <td>37510196</td>\n",
       "    </tr>\n",
       "    <tr>\n",
       "      <th>3</th>\n",
       "      <td>26184834</td>\n",
       "      <td>79</td>\n",
       "      <td>2131-01-11 06:59:59</td>\n",
       "      <td>2131-01-11 07:59:59</td>\n",
       "      <td>0.0</td>\n",
       "      <td>-47.0</td>\n",
       "      <td>-47.0</td>\n",
       "      <td>37510196</td>\n",
       "    </tr>\n",
       "    <tr>\n",
       "      <th>4</th>\n",
       "      <td>26184834</td>\n",
       "      <td>80</td>\n",
       "      <td>2131-01-11 07:59:59</td>\n",
       "      <td>2131-01-11 08:59:59</td>\n",
       "      <td>0.0</td>\n",
       "      <td>-47.0</td>\n",
       "      <td>-47.0</td>\n",
       "      <td>37510196</td>\n",
       "    </tr>\n",
       "    <tr>\n",
       "      <th>5</th>\n",
       "      <td>26184834</td>\n",
       "      <td>81</td>\n",
       "      <td>2131-01-11 08:59:59</td>\n",
       "      <td>2131-01-11 09:59:59</td>\n",
       "      <td>0.0</td>\n",
       "      <td>0.0</td>\n",
       "      <td>-47.0</td>\n",
       "      <td>37510196</td>\n",
       "    </tr>\n",
       "    <tr>\n",
       "      <th>6</th>\n",
       "      <td>26184834</td>\n",
       "      <td>82</td>\n",
       "      <td>2131-01-11 09:59:59</td>\n",
       "      <td>2131-01-11 10:59:59</td>\n",
       "      <td>0.0</td>\n",
       "      <td>0.0</td>\n",
       "      <td>-47.0</td>\n",
       "      <td>37510196</td>\n",
       "    </tr>\n",
       "    <tr>\n",
       "      <th>7</th>\n",
       "      <td>26184834</td>\n",
       "      <td>83</td>\n",
       "      <td>2131-01-11 10:59:59</td>\n",
       "      <td>2131-01-11 11:59:59</td>\n",
       "      <td>0.0</td>\n",
       "      <td>0.0</td>\n",
       "      <td>0.0</td>\n",
       "      <td>37510196</td>\n",
       "    </tr>\n",
       "    <tr>\n",
       "      <th>8</th>\n",
       "      <td>26184834</td>\n",
       "      <td>84</td>\n",
       "      <td>2131-01-11 11:59:59</td>\n",
       "      <td>2131-01-11 12:59:59</td>\n",
       "      <td>0.0</td>\n",
       "      <td>0.0</td>\n",
       "      <td>0.0</td>\n",
       "      <td>37510196</td>\n",
       "    </tr>\n",
       "    <tr>\n",
       "      <th>9</th>\n",
       "      <td>26184834</td>\n",
       "      <td>85</td>\n",
       "      <td>2131-01-11 12:59:59</td>\n",
       "      <td>2131-01-11 13:59:59</td>\n",
       "      <td>0.0</td>\n",
       "      <td>0.0</td>\n",
       "      <td>0.0</td>\n",
       "      <td>37510196</td>\n",
       "    </tr>\n",
       "  </tbody>\n",
       "</table>\n",
       "</div>"
      ],
      "text/plain": [
       "    hadm_id  seq_num              seq_ST              seq_ET  platelets_slp1  \\\n",
       "0  26184834       76 2131-01-11 03:59:59 2131-01-11 04:59:59             0.0   \n",
       "1  26184834       77 2131-01-11 04:59:59 2131-01-11 05:59:59             0.0   \n",
       "2  26184834       78 2131-01-11 05:59:59 2131-01-11 06:59:59           -47.0   \n",
       "3  26184834       79 2131-01-11 06:59:59 2131-01-11 07:59:59             0.0   \n",
       "4  26184834       80 2131-01-11 07:59:59 2131-01-11 08:59:59             0.0   \n",
       "5  26184834       81 2131-01-11 08:59:59 2131-01-11 09:59:59             0.0   \n",
       "6  26184834       82 2131-01-11 09:59:59 2131-01-11 10:59:59             0.0   \n",
       "7  26184834       83 2131-01-11 10:59:59 2131-01-11 11:59:59             0.0   \n",
       "8  26184834       84 2131-01-11 11:59:59 2131-01-11 12:59:59             0.0   \n",
       "9  26184834       85 2131-01-11 12:59:59 2131-01-11 13:59:59             0.0   \n",
       "\n",
       "   platelets_slp3  platelets_slp5   stay_id  \n",
       "0             0.0             0.0  37510196  \n",
       "1             0.0             0.0  37510196  \n",
       "2           -47.0           -47.0  37510196  \n",
       "3           -47.0           -47.0  37510196  \n",
       "4           -47.0           -47.0  37510196  \n",
       "5             0.0           -47.0  37510196  \n",
       "6             0.0           -47.0  37510196  \n",
       "7             0.0             0.0  37510196  \n",
       "8             0.0             0.0  37510196  \n",
       "9             0.0             0.0  37510196  "
      ]
     },
     "execution_count": 14,
     "metadata": {},
     "output_type": "execute_result"
    }
   ],
   "source": [
    "sepsis_data_t1v2FE_df.iloc[0:10, [0,1,2,3,-4,-3,-2,-1]]"
   ]
  },
  {
   "cell_type": "code",
   "execution_count": 15,
   "metadata": {},
   "outputs": [
    {
     "data": {
      "text/html": [
       "<div>\n",
       "<style scoped>\n",
       "    .dataframe tbody tr th:only-of-type {\n",
       "        vertical-align: middle;\n",
       "    }\n",
       "\n",
       "    .dataframe tbody tr th {\n",
       "        vertical-align: top;\n",
       "    }\n",
       "\n",
       "    .dataframe thead th {\n",
       "        text-align: right;\n",
       "    }\n",
       "</style>\n",
       "<table border=\"1\" class=\"dataframe\">\n",
       "  <thead>\n",
       "    <tr style=\"text-align: right;\">\n",
       "      <th></th>\n",
       "      <th>hadm_id</th>\n",
       "      <th>seq_num</th>\n",
       "      <th>seq_ST</th>\n",
       "      <th>seq_ET</th>\n",
       "      <th>platelets_slp3</th>\n",
       "      <th>platelets_slp5</th>\n",
       "      <th>stay_id</th>\n",
       "    </tr>\n",
       "  </thead>\n",
       "  <tbody>\n",
       "    <tr>\n",
       "      <th>0</th>\n",
       "      <td>26184834</td>\n",
       "      <td>76</td>\n",
       "      <td>2131-01-11 03:59:59</td>\n",
       "      <td>2131-01-11 04:59:59</td>\n",
       "      <td>0.0</td>\n",
       "      <td>0.0</td>\n",
       "      <td>37510196</td>\n",
       "    </tr>\n",
       "    <tr>\n",
       "      <th>1</th>\n",
       "      <td>26184834</td>\n",
       "      <td>77</td>\n",
       "      <td>2131-01-11 04:59:59</td>\n",
       "      <td>2131-01-11 05:59:59</td>\n",
       "      <td>0.0</td>\n",
       "      <td>0.0</td>\n",
       "      <td>37510196</td>\n",
       "    </tr>\n",
       "    <tr>\n",
       "      <th>2</th>\n",
       "      <td>26184834</td>\n",
       "      <td>78</td>\n",
       "      <td>2131-01-11 05:59:59</td>\n",
       "      <td>2131-01-11 06:59:59</td>\n",
       "      <td>-47.0</td>\n",
       "      <td>-47.0</td>\n",
       "      <td>37510196</td>\n",
       "    </tr>\n",
       "    <tr>\n",
       "      <th>3</th>\n",
       "      <td>26184834</td>\n",
       "      <td>79</td>\n",
       "      <td>2131-01-11 06:59:59</td>\n",
       "      <td>2131-01-11 07:59:59</td>\n",
       "      <td>-47.0</td>\n",
       "      <td>-47.0</td>\n",
       "      <td>37510196</td>\n",
       "    </tr>\n",
       "    <tr>\n",
       "      <th>4</th>\n",
       "      <td>26184834</td>\n",
       "      <td>80</td>\n",
       "      <td>2131-01-11 07:59:59</td>\n",
       "      <td>2131-01-11 08:59:59</td>\n",
       "      <td>-47.0</td>\n",
       "      <td>-47.0</td>\n",
       "      <td>37510196</td>\n",
       "    </tr>\n",
       "    <tr>\n",
       "      <th>5</th>\n",
       "      <td>26184834</td>\n",
       "      <td>81</td>\n",
       "      <td>2131-01-11 08:59:59</td>\n",
       "      <td>2131-01-11 09:59:59</td>\n",
       "      <td>0.0</td>\n",
       "      <td>-47.0</td>\n",
       "      <td>37510196</td>\n",
       "    </tr>\n",
       "    <tr>\n",
       "      <th>6</th>\n",
       "      <td>26184834</td>\n",
       "      <td>82</td>\n",
       "      <td>2131-01-11 09:59:59</td>\n",
       "      <td>2131-01-11 10:59:59</td>\n",
       "      <td>0.0</td>\n",
       "      <td>-47.0</td>\n",
       "      <td>37510196</td>\n",
       "    </tr>\n",
       "    <tr>\n",
       "      <th>7</th>\n",
       "      <td>26184834</td>\n",
       "      <td>83</td>\n",
       "      <td>2131-01-11 10:59:59</td>\n",
       "      <td>2131-01-11 11:59:59</td>\n",
       "      <td>0.0</td>\n",
       "      <td>0.0</td>\n",
       "      <td>37510196</td>\n",
       "    </tr>\n",
       "    <tr>\n",
       "      <th>8</th>\n",
       "      <td>26184834</td>\n",
       "      <td>84</td>\n",
       "      <td>2131-01-11 11:59:59</td>\n",
       "      <td>2131-01-11 12:59:59</td>\n",
       "      <td>0.0</td>\n",
       "      <td>0.0</td>\n",
       "      <td>37510196</td>\n",
       "    </tr>\n",
       "    <tr>\n",
       "      <th>9</th>\n",
       "      <td>26184834</td>\n",
       "      <td>85</td>\n",
       "      <td>2131-01-11 12:59:59</td>\n",
       "      <td>2131-01-11 13:59:59</td>\n",
       "      <td>0.0</td>\n",
       "      <td>0.0</td>\n",
       "      <td>37510196</td>\n",
       "    </tr>\n",
       "  </tbody>\n",
       "</table>\n",
       "</div>"
      ],
      "text/plain": [
       "    hadm_id  seq_num              seq_ST              seq_ET  platelets_slp3  \\\n",
       "0  26184834       76 2131-01-11 03:59:59 2131-01-11 04:59:59             0.0   \n",
       "1  26184834       77 2131-01-11 04:59:59 2131-01-11 05:59:59             0.0   \n",
       "2  26184834       78 2131-01-11 05:59:59 2131-01-11 06:59:59           -47.0   \n",
       "3  26184834       79 2131-01-11 06:59:59 2131-01-11 07:59:59           -47.0   \n",
       "4  26184834       80 2131-01-11 07:59:59 2131-01-11 08:59:59           -47.0   \n",
       "5  26184834       81 2131-01-11 08:59:59 2131-01-11 09:59:59             0.0   \n",
       "6  26184834       82 2131-01-11 09:59:59 2131-01-11 10:59:59             0.0   \n",
       "7  26184834       83 2131-01-11 10:59:59 2131-01-11 11:59:59             0.0   \n",
       "8  26184834       84 2131-01-11 11:59:59 2131-01-11 12:59:59             0.0   \n",
       "9  26184834       85 2131-01-11 12:59:59 2131-01-11 13:59:59             0.0   \n",
       "\n",
       "   platelets_slp5   stay_id  \n",
       "0             0.0  37510196  \n",
       "1             0.0  37510196  \n",
       "2           -47.0  37510196  \n",
       "3           -47.0  37510196  \n",
       "4           -47.0  37510196  \n",
       "5           -47.0  37510196  \n",
       "6           -47.0  37510196  \n",
       "7             0.0  37510196  \n",
       "8             0.0  37510196  \n",
       "9             0.0  37510196  "
      ]
     },
     "execution_count": 15,
     "metadata": {},
     "output_type": "execute_result"
    }
   ],
   "source": [
    "sepsis_data_tab1_v2_FE[stayids[0]].iloc[0:10, [0,1,2,3,-3,-2,-1]]"
   ]
  },
  {
   "cell_type": "code",
   "execution_count": 16,
   "metadata": {},
   "outputs": [],
   "source": [
    "sepsis_data_t1v2FE_df.to_csv('sepsis_data_t1v2FE_df.csv', index=False)"
   ]
  },
  {
   "cell_type": "markdown",
   "metadata": {},
   "source": [
    "# Re-preparation\n",
    "\n",
    "1. prediction labeling: prediction window(1~12), train window(0,1,2,999), first shock focus(0,1)\n",
    "2. make splits: stratified splitting - trn : val : cal : tst = 7 : 1 : 1 : 1"
   ]
  },
  {
   "cell_type": "code",
   "execution_count": 2,
   "metadata": {},
   "outputs": [],
   "source": [
    "# module loading\n",
    "import pandas as pd\n",
    "from warnings import simplefilter\n",
    "from tqdm import tqdm\n",
    "import numpy as np\n",
    "import random as rd\n",
    "simplefilter(action=\"ignore\", category=pd.errors.DtypeWarning)\n",
    "pd.set_option('display.max_columns', None)\n",
    "\n",
    "import pickle\n",
    "import matplotlib.pyplot as plt\n",
    "from functools import partial"
   ]
  },
  {
   "cell_type": "code",
   "execution_count": 3,
   "metadata": {},
   "outputs": [],
   "source": [
    "# feature list and data loading\n",
    "hw_list = ['height', 'weight']#no bmi, gender, race => race using postponed\n",
    "vital_list = ['heart_rate', 'resp_rate', 'temperature', 'sbp', 'dbp', 'map', 'paco2', 'pao2', 'fio2']# no cvp\n",
    "lab_list = ['gcs', 'bilirubin', 'platelets', 'creatinine', 'lactate', 'bun', 'arterial_ph', 'wbc', 'hemoglobin', 'hematocrit','potassium', 'sodium', 'urine_output']\n",
    "vaso_list = ['epinephrine', 'dopamine', 'dobutamine', 'norepinephrine', 'phenylephrine', 'vasopressin']# no vaso_presence\n",
    "fl_vent_list = ['fluid', 'ventilator']\n",
    "sofa_list = ['CNS_SOFA', 'CARDIO_SOFA', 'RESP_SOFA', 'COAG_SOFA', 'LIVER_SOFA', 'RENAL_SOFA']\n",
    "label_list = ['SEPSIS', 'SHOCK']\n",
    "core_list = ['sbp', 'dbp', 'map', 'pao2', 'fio2', 'lactate', 'arterial_ph', 'gcs', 'creatinine', 'bilirubin', 'platelets']\n",
    "tmp = hw_list+vital_list+lab_list+fl_vent_list#+vaso_list\n",
    "tmp = [i+'_value' for i in tmp]\n",
    "#tmp += [i+'_rate' for i in vaso_list]\n",
    "tmp += [i+j for i in core_list for j in ['_min', '_median', '_max', '_presence']]\n",
    "tmp += [i+'_slp'+str(j) for i in core_list for j in [1,3,5]]\n",
    "tmp +=  [i for i in sofa_list if i !='CARDIO_SOFA']+['SEPSIS', 'bmi', 'gender']\n",
    "all_features = tmp.copy()\n",
    "\n",
    "prvs_targets = [f'shock_dc{a}_pw{b}' for a in [0,1,2,3,4,5,6,12,999] for b in [1,2,3,4,5,6]]\n",
    "curr_targets = [f'label_pw{a}_tw{b}_ftf{c}'for a in np.arange(1,13) for b in [0, 1, 2, 999] for c in [0, 1]]\n",
    "\n",
    "data = pd.read_csv('sepsis_data_cvtr_df.csv')\n",
    "data.gender = np.where(data.gender == 'F', 1, 0)\n",
    "data.gender = pd.to_numeric(data.gender)\n",
    "data.bmi = np.nan_to_num(data.bmi, posinf=0)\n",
    "\n",
    "icustays = pd.read_csv('processed_data/sepsis/icustays_tab_1hr_v1.csv')\n",
    "icustays = icustays.loc[icustays.cohort_stays_tab_1hr_v1 == 1].reset_index(drop=True)\n",
    "stayids = icustays.stay_id.tolist()\n",
    "shock_ids = icustays[icustays.shock_tab_1hr_v1 == 1].stay_id.tolist()\n",
    "nonshock_ids = [i for i in stayids if i not in shock_ids]"
   ]
  },
  {
   "cell_type": "markdown",
   "metadata": {},
   "source": [
    "## 1.1 prediction labeling"
   ]
  },
  {
   "cell_type": "code",
   "execution_count": null,
   "metadata": {},
   "outputs": [],
   "source": [
    "def prediction_labeling(x, target_col, prediction_window):\n",
    "    targets = x[target_col]\n",
    "    pw = prediction_window\n",
    "    if np.sum(targets) == 0:\n",
    "        return np.repeat(np.repeat(0, len(targets)), 8).reshape(8, -1)\n",
    "    else:\n",
    "        x['labels'] = np.repeat(0, len(targets))\n",
    "        t_idx = x.index[x[target_col]==1]\n",
    "\n",
    "        se_pairs = []\n",
    "        tmp_se = [t_idx[0]]\n",
    "        for idx in t_idx:\n",
    "            if (idx - tmp_se[-1]) > 1:\n",
    "                se_pairs.append([tmp_se[0], tmp_se[-1]])\n",
    "                tmp_se = []\n",
    "            tmp_se.append(idx)\n",
    "        se_pairs.append([tmp_se[0], tmp_se[-1]])\n",
    "\n",
    "        for tmp_se in se_pairs:\n",
    "            s, e = tmp_se\n",
    "            x['labels'].loc[np.max([(s-pw), x.index[0]]):(e-1)] = 1\n",
    "\n",
    "        for tw in [0, 1, 2, 999]:\n",
    "            x[f'label_pw{pw}_tw{tw}_ftf{0}'] = x['labels']\n",
    "            if tw != 999:\n",
    "                for tmp_se in se_pairs:\n",
    "                    s, e = tmp_se\n",
    "                    if (s+tw) <= e: \n",
    "                        x[f'label_pw{pw}_tw{tw}_ftf{0}'].loc[(s+tw):e] = np.nan\n",
    "            \n",
    "            x[f'label_pw{pw}_tw{tw}_ftf{1}'] = x[f'label_pw{pw}_tw{tw}_ftf{0}']\n",
    "            if tw != 999:\n",
    "                x[f'label_pw{pw}_tw{tw}_ftf{1}'].loc[(t_idx[0]+tw):] = np.nan\n",
    "            else:\n",
    "                x[f'label_pw{pw}_tw{tw}_ftf{1}'].loc[(se_pairs[0][-1]+1):] = np.nan\n",
    "        \n",
    "        return x.loc[:, [f'label_pw{pw}_tw{a}_ftf{b}' for a in [0, 1, 2, 999] for b in [0, 1]]]"
   ]
  },
  {
   "cell_type": "code",
   "execution_count": null,
   "metadata": {},
   "outputs": [
    {
     "name": "stdout",
     "output_type": "stream",
     "text": [
      "window 1 labeling done\n",
      "window 2 labeling done\n",
      "window 3 labeling done\n",
      "window 4 labeling done\n",
      "window 5 labeling done\n",
      "window 6 labeling done\n",
      "window 7 labeling done\n",
      "window 8 labeling done\n",
      "window 9 labeling done\n",
      "window 10 labeling done\n",
      "window 11 labeling done\n",
      "window 12 labeling done\n"
     ]
    }
   ],
   "source": [
    "for pw in np.arange(1,13):\n",
    "    result = data.loc[data['stay_id'].isin(shock_ids)].groupby('stay_id', group_keys=False).apply(partial(prediction_labeling, target_col='SHOCK', prediction_window=pw))\n",
    "    data = pd.concat([data, result], axis=1)\n",
    "    \n",
    "    for tw, ftf in [(a, b) for a in [0, 1, 2, 999] for b in [0, 1]]:\n",
    "        data.loc[data['stay_id'].isin(nonshock_ids), [f'label_pw{pw}_tw{tw}_ftf{ftf}']] = 0\n",
    "    \n",
    "    print(f'window {pw} labeling done')"
   ]
  },
  {
   "cell_type": "code",
   "execution_count": null,
   "metadata": {},
   "outputs": [],
   "source": [
    "data.loc[data.stay_id==shock_ids[0], ['SHOCK']+curr_targets].to_csv('tmp.csv')"
   ]
  },
  {
   "cell_type": "markdown",
   "metadata": {},
   "source": [
    "## 1.2 making splits"
   ]
  },
  {
   "cell_type": "code",
   "execution_count": null,
   "metadata": {},
   "outputs": [],
   "source": [
    "def split(data, target_ids, nontarget_ids, features, targets, split_ratios, seed):\n",
    "    # preprocessing-----------------------------------------------------------------------------------------------------------------------------------------------------------------------------------------------------------------------------------\n",
    "    rng = np.random.RandomState(seed)\n",
    "    print(f'==>> splitting...', end=' ')\n",
    "    id_splits = []\n",
    "    for r in split_ratios:\n",
    "        id_splits.append(np.concatenate([rng.choice(target_ids, round(len(target_ids)*r), replace=False), \n",
    "                                   rng.choice(nontarget_ids, round(len(nontarget_ids)*r), replace=False)]))\n",
    "        target_ids = list(set(target_ids)-set(id_splits[-1]))\n",
    "        nontarget_ids = list(set(nontarget_ids)-set(id_splits[-1]))\n",
    "\n",
    "    for idx, ids in enumerate(id_splits):\n",
    "        if idx == 0:\n",
    "            s_name = 'trn'\n",
    "        elif idx == 1:\n",
    "            s_name = 'val'\n",
    "        elif idx == 2:\n",
    "            s_name = 'cal'\n",
    "        else:\n",
    "            s_name = 'tst'\n",
    "        data.loc[data.stay_id.isin(ids), [f'split_{seed}']] = s_name\n",
    "    \n",
    "    print('done')\n",
    "\n",
    "    return data.loc[:, ['hadm_id', 'stay_id', 'seq_num', 'SHOCK']+features+targets+[f'split_{seed}']]"
   ]
  },
  {
   "cell_type": "code",
   "execution_count": null,
   "metadata": {},
   "outputs": [
    {
     "name": "stdout",
     "output_type": "stream",
     "text": [
      "==>> splitting... done\n"
     ]
    }
   ],
   "source": [
    "seed = 230726\n",
    "data = split(data.copy(), target_ids=shock_ids, nontarget_ids=nonshock_ids, features=all_features, targets=prvs_targets+curr_targets, split_ratios=[0.7, 0.1, 0.1, 0.1], seed=seed)"
   ]
  },
  {
   "cell_type": "code",
   "execution_count": null,
   "metadata": {},
   "outputs": [],
   "source": [
    "data.to_csv('sepsis_data_T1FLSv1_df.csv', index=False) # tab, fe, labeled, splitted"
   ]
  },
  {
   "cell_type": "markdown",
   "metadata": {},
   "source": [
    "## 1.3 sepsis time diff check"
   ]
  },
  {
   "cell_type": "code",
   "execution_count": 4,
   "metadata": {},
   "outputs": [],
   "source": [
    "data = pd.read_csv('sepsis_data_T1FLSv1_df.csv')"
   ]
  },
  {
   "cell_type": "code",
   "execution_count": 7,
   "metadata": {},
   "outputs": [],
   "source": [
    "def sep_td_check(x):\n",
    "    target = x['SEPSIS']\n",
    "    t_idx = target[target==1].index\n",
    "\n",
    "    return t_idx[0]-x.index[0]\n",
    "    \n",
    "sep_td_list = data.groupby('stay_id').apply(sep_td_check)"
   ]
  },
  {
   "cell_type": "code",
   "execution_count": 9,
   "metadata": {},
   "outputs": [
    {
     "data": {
      "text/plain": [
       "count    11780.000000\n",
       "mean         2.096010\n",
       "std          9.486495\n",
       "min          0.000000\n",
       "5%           0.000000\n",
       "10%          0.000000\n",
       "15%          0.000000\n",
       "20%          0.000000\n",
       "25%          0.000000\n",
       "30%          0.000000\n",
       "35%          0.000000\n",
       "40%          0.000000\n",
       "45%          0.000000\n",
       "50%          0.000000\n",
       "55%          0.000000\n",
       "60%          0.000000\n",
       "65%          0.000000\n",
       "70%          0.000000\n",
       "75%          0.000000\n",
       "80%          0.000000\n",
       "85%          0.000000\n",
       "90%          3.000000\n",
       "95%         12.000000\n",
       "max        197.000000\n",
       "dtype: float64"
      ]
     },
     "execution_count": 9,
     "metadata": {},
     "output_type": "execute_result"
    }
   ],
   "source": [
    "sep_td_list.describe(np.arange(0.05, 1, 0.05))"
   ]
  },
  {
   "cell_type": "markdown",
   "metadata": {},
   "source": [
    "## 1.3 shock prolonging time check"
   ]
  },
  {
   "cell_type": "code",
   "execution_count": null,
   "metadata": {},
   "outputs": [],
   "source": [
    "def prolonging(x, target_col='SHOCK'):\n",
    "    target = x[target_col]\n",
    "    t_idx = target[target==1].index\n",
    "\n",
    "    if len(t_idx) == 0:\n",
    "        return [np.nan]\n",
    "    else:\n",
    "        tmp = np.sort(np.array(t_idx))\n",
    "        tmp = np.sort(np.array([tmp[0]-1] + list(set(range(tmp[0], tmp[-1]+1)) - set(tmp))+[tmp[-1]+1]))\n",
    "        tmp = tmp[1:]-tmp[:-1]-1\n",
    "        tmp = tmp[np.where(tmp>0)]\n",
    "\n",
    "        return list(tmp)\n",
    "    \n",
    "prl_result = data.loc[data['stay_id'].isin(shock_ids)].groupby('stay_id').apply(prolonging)\n",
    "\n",
    "prl_list = []\n",
    "for i in prl_result:\n",
    "    prl_list += i"
   ]
  },
  {
   "cell_type": "code",
   "execution_count": null,
   "metadata": {},
   "outputs": [
    {
     "data": {
      "text/plain": [
       "count    8804.000000\n",
       "mean       21.290663\n",
       "std        30.324001\n",
       "min         1.000000\n",
       "5%          1.000000\n",
       "10%         2.000000\n",
       "15%         3.000000\n",
       "20%         4.000000\n",
       "25%         4.000000\n",
       "30%         5.000000\n",
       "35%         6.000000\n",
       "40%         7.000000\n",
       "45%         9.000000\n",
       "50%        11.000000\n",
       "55%        12.000000\n",
       "60%        15.000000\n",
       "65%        17.000000\n",
       "70%        21.000000\n",
       "75%        25.000000\n",
       "80%        31.000000\n",
       "85%        40.000000\n",
       "90%        53.000000\n",
       "95%        79.000000\n",
       "max       478.000000\n",
       "dtype: float64"
      ]
     },
     "metadata": {},
     "output_type": "display_data"
    }
   ],
   "source": [
    "pd.Series(prl_list).describe(percentiles=np.round(np.arange(0.05, 1, 0.05), 2)).to_csv('shock_prolonging_hrs.csv')\n",
    "pd.Series(prl_list).describe(percentiles=np.round(np.arange(0.05, 1, 0.05), 2))"
   ]
  },
  {
   "cell_type": "code",
   "execution_count": null,
   "metadata": {},
   "outputs": [
    {
     "data": {
      "image/png": "[encoded data removed]",
      "text/plain": [
       "<Figure size 2160x720 with 1 Axes>"
      ]
     },
     "metadata": {},
     "output_type": "display_data"
    }
   ],
   "source": [
    "plt.style.use('ggplot')\n",
    "plt.figure(figsize=(30,10))\n",
    "plt.hist(prl_list, bins=50)\n",
    "plt.xticks(pd.Series(prl_list).describe(percentiles=np.round(np.arange(0.05, 1, 0.05), 2)).to_numpy()[3::5], size=15)\n",
    "plt.yticks(size=15)\n",
    "plt.xlim(0,480)\n",
    "plt.suptitle('septic shock prolonging hours',size=30)\n",
    "plt.savefig('shock_prolonging_hrs.pdf')"
   ]
  },
  {
   "cell_type": "markdown",
   "metadata": {},
   "source": [
    "## 1.4 shock recurrence time check"
   ]
  },
  {
   "cell_type": "code",
   "execution_count": null,
   "metadata": {},
   "outputs": [],
   "source": [
    "def shock_recurrence_time(x, target_col='SHOCK'):\n",
    "    if x[target_col].sum() == 0:\n",
    "        return [np.nan]\n",
    "    else:\n",
    "        td_list = []\n",
    "        t_idx = x.index[x[target_col]==1]\n",
    "\n",
    "        tmp_list = [t_idx[0]]\n",
    "        for idx in t_idx:\n",
    "            if (idx - tmp_list[-1]) > 1:\n",
    "                td_list.append(idx - tmp_list[-1] - 1)\n",
    "            tmp_list.append(idx)\n",
    "        \n",
    "        if len(td_list) == 0:\n",
    "            return [0]\n",
    "        else: \n",
    "            return td_list"
   ]
  },
  {
   "cell_type": "code",
   "execution_count": null,
   "metadata": {},
   "outputs": [],
   "source": [
    "srt_results = data.loc[data['stay_id'].isin(shock_ids)].groupby('stay_id').apply(shock_recurrence_time).ravel()\n",
    "srt_list = []\n",
    "for i in srt_results:\n",
    "    srt_list += i"
   ]
  },
  {
   "cell_type": "code",
   "execution_count": null,
   "metadata": {},
   "outputs": [
    {
     "data": {
      "text/plain": [
       "count    6889.000000\n",
       "mean       24.437074\n",
       "std        68.931560\n",
       "min         0.000000\n",
       "5%          0.000000\n",
       "10%         0.000000\n",
       "15%         0.000000\n",
       "20%         0.000000\n",
       "25%         0.000000\n",
       "30%         0.000000\n",
       "35%         0.000000\n",
       "40%         1.000000\n",
       "45%         2.000000\n",
       "50%         3.000000\n",
       "55%         4.000000\n",
       "60%         6.000000\n",
       "65%         7.000000\n",
       "70%        11.000000\n",
       "75%        15.000000\n",
       "80%        24.000000\n",
       "85%        37.000000\n",
       "90%        64.000000\n",
       "95%       129.600000\n",
       "max      1238.000000\n",
       "dtype: float64"
      ]
     },
     "metadata": {},
     "output_type": "display_data"
    }
   ],
   "source": [
    "pd.Series(srt_list).describe(percentiles=np.round(np.arange(0.05, 1, 0.05), 2)).to_csv('shock_recurrence_hrs.csv')\n",
    "pd.Series(srt_list).describe(percentiles=np.round(np.arange(0.05, 1, 0.05), 2))"
   ]
  },
  {
   "cell_type": "code",
   "execution_count": null,
   "metadata": {},
   "outputs": [
    {
     "data": {
      "text/plain": [
       "2454"
      ]
     },
     "metadata": {},
     "output_type": "display_data"
    }
   ],
   "source": [
    "len([i for i in srt_list if i == 0])"
   ]
  },
  {
   "cell_type": "code",
   "execution_count": null,
   "metadata": {},
   "outputs": [
    {
     "data": {
      "text/plain": [
       "count    4435.000000\n",
       "mean       37.958737\n",
       "std        82.872991\n",
       "min         1.000000\n",
       "5%          1.000000\n",
       "10%         1.000000\n",
       "15%         2.000000\n",
       "20%         2.000000\n",
       "25%         3.000000\n",
       "30%         4.000000\n",
       "35%         5.000000\n",
       "40%         6.000000\n",
       "45%         7.000000\n",
       "50%         9.000000\n",
       "55%        12.000000\n",
       "60%        14.000000\n",
       "65%        18.000000\n",
       "70%        24.000000\n",
       "75%        33.000000\n",
       "80%        46.000000\n",
       "85%        67.000000\n",
       "90%       101.000000\n",
       "95%       177.000000\n",
       "max      1238.000000\n",
       "dtype: float64"
      ]
     },
     "metadata": {},
     "output_type": "display_data"
    }
   ],
   "source": [
    "pd.Series([i for i in srt_list if i != 0]).describe(percentiles=np.round(np.arange(0.05, 1, 0.05), 2)).to_csv('shock_recurrence_hrs_wo0.csv')\n",
    "pd.Series([i for i in srt_list if i != 0]).describe(percentiles=np.round(np.arange(0.05, 1, 0.05), 2))"
   ]
  },
  {
   "cell_type": "code",
   "execution_count": null,
   "metadata": {},
   "outputs": [
    {
     "data": {
      "image/png": "[encoded data removed]",
      "text/plain": [
       "<Figure size 2160x720 with 1 Axes>"
      ]
     },
     "metadata": {},
     "output_type": "display_data"
    }
   ],
   "source": [
    "plt.style.use('ggplot')\n",
    "plt.figure(figsize=(30,10))\n",
    "plt.hist(srt_list, bins=50)\n",
    "plt.xticks(pd.Series(srt_list).describe(percentiles=np.round(np.arange(0.05, 1, 0.05), 2)).to_numpy()[3::5], size=15)\n",
    "plt.yticks(size=15)\n",
    "plt.xlim(0,518)\n",
    "plt.suptitle('Time Difference between Septic Shock Onsets',size=30)\n",
    "plt.savefig('shock_recurrence_hrs.pdf')"
   ]
  },
  {
   "cell_type": "code",
   "execution_count": null,
   "metadata": {},
   "outputs": [
    {
     "data": {
      "image/png": "[encoded data removed]",
      "text/plain": [
       "<Figure size 2160x720 with 1 Axes>"
      ]
     },
     "metadata": {},
     "output_type": "display_data"
    }
   ],
   "source": [
    "plt.style.use('ggplot')\n",
    "plt.figure(figsize=(30,10))\n",
    "plt.hist([i for i in srt_list if i != 0], bins=50)\n",
    "plt.xticks(pd.Series([i for i in srt_list if i != 0]).describe(percentiles=np.round(np.arange(0.05, 1, 0.05), 2)).to_numpy()[3::5], size=15)\n",
    "plt.yticks(size=15)\n",
    "plt.xlim(0,518)\n",
    "plt.suptitle('Time Difference between Septic Shock Onsets',size=30)\n",
    "plt.savefig('shock_recurrence_hrs_wo0.pdf')"
   ]
  },
  {
   "cell_type": "markdown",
   "metadata": {},
   "source": [
    "## 1.5 shock의 횟수"
   ]
  },
  {
   "cell_type": "code",
   "execution_count": null,
   "metadata": {},
   "outputs": [],
   "source": [
    "def n_target(x, target_col='SHOCK'):\n",
    "    target = x[target_col]\n",
    "    t_idx = target[target==1].index\n",
    "\n",
    "    if len(t_idx) == 0:\n",
    "        return 0\n",
    "    else:\n",
    "        tmp = np.sort(np.array(t_idx))\n",
    "        tmp = np.sort(np.array([tmp[0]-1] + list(set(range(tmp[0], tmp[-1]+1)) - set(tmp))+[tmp[-1]+1]))\n",
    "        tmp = tmp[1:]-tmp[:-1]-1\n",
    "        tmp = tmp[np.where(tmp>0)]\n",
    "\n",
    "        return len(tmp)\n",
    "    \n",
    "ns_result = data.loc[data['stay_id'].isin(shock_ids)].groupby('stay_id').apply(n_target)\n",
    "\n",
    "ns_list = []\n",
    "for i in ns_result:\n",
    "    ns_list.append(i)"
   ]
  },
  {
   "cell_type": "code",
   "execution_count": null,
   "metadata": {},
   "outputs": [
    {
     "data": {
      "text/plain": [
       "count    4369.000000\n",
       "mean        2.015106\n",
       "std         1.915512\n",
       "min         1.000000\n",
       "5%          1.000000\n",
       "10%         1.000000\n",
       "15%         1.000000\n",
       "20%         1.000000\n",
       "25%         1.000000\n",
       "30%         1.000000\n",
       "35%         1.000000\n",
       "40%         1.000000\n",
       "45%         1.000000\n",
       "50%         1.000000\n",
       "55%         1.000000\n",
       "60%         2.000000\n",
       "65%         2.000000\n",
       "70%         2.000000\n",
       "75%         2.000000\n",
       "80%         3.000000\n",
       "85%         3.000000\n",
       "90%         4.000000\n",
       "95%         6.000000\n",
       "max        28.000000\n",
       "dtype: float64"
      ]
     },
     "metadata": {},
     "output_type": "display_data"
    }
   ],
   "source": [
    "pd.Series(ns_list).describe(percentiles=np.round(np.arange(0.05, 1, 0.05), 2)).to_csv('n_shock.csv')\n",
    "pd.Series(ns_list).describe(percentiles=np.round(np.arange(0.05, 1, 0.05), 2))"
   ]
  },
  {
   "cell_type": "markdown",
   "metadata": {},
   "source": [
    "# EON"
   ]
  }
 ],
 "metadata": {
  "kernelspec": {
   "display_name": "torch_py39",
   "language": "python",
   "name": "python3"
  },
  "language_info": {
   "codemirror_mode": {
    "name": "ipython",
    "version": 3
   },
   "file_extension": ".py",
   "mimetype": "text/x-python",
   "name": "python",
   "nbconvert_exporter": "python",
   "pygments_lexer": "ipython3",
   "version": "3.9.16"
  }
 },
 "nbformat": 4,
 "nbformat_minor": 2
}
